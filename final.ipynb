{
 "cells": [
  {
   "cell_type": "markdown",
   "metadata": {},
   "source": [
    "# **Miguel Angel Alvarez Guzman 1000871173**\n"
   ]
  },
  {
   "cell_type": "markdown",
   "metadata": {},
   "source": [
    "## Respuesta a preguntas\n",
    "## 1. Polinomio Característico\n",
    "\n",
    "El **polinomio característico** se obtiene al aplicar la ecuación determinantal:\n",
    "\n",
    "\\[\n",
    "det(sI - A) = 0\n",
    "\\]\n",
    "\n",
    "donde:\n",
    "\n",
    "- **A** es la matriz de estado del sistema.\n",
    "- **s** es la variable compleja.\n",
    "- **I** es la matriz identidad.\n",
    "\n",
    "Este polinomio resume las propiedades dinámicas del sistema, ya que sus raíces determinan el comportamiento en términos de estabilidad y respuesta transitoria.\n",
    "\n",
    "## 2. Valores Propios\n",
    "\n",
    "Los **valores propios** (o autovalores) son las soluciones de la ecuación:\n",
    "\n",
    "\\[\n",
    "det(sI - A) = 0\n",
    "\\]\n",
    "\n",
    "Estos valores indican:\n",
    "\n",
    "- **Estabilidad:** El sistema es estable si todos los valores propios tienen partes reales negativas.\n",
    "- **Respuesta Transitoria:** La magnitud y ubicación en el plano complejo determinan la rapidez y oscilaciones de la respuesta del sistema.\n",
    "\n",
    "## 3. Tiempo de Estabilización y Sobre Nivel Porcentual\n",
    "\n",
    "**Tiempo de Estabilización:** Es el tiempo que tarda la respuesta del sistema en alcanzar y permanecer dentro de una banda de tolerancia (por ejemplo, ±2% o ±5%) alrededor del valor final tras una entrada escalón. Un tiempo menor indica que el sistema alcanza rápidamente su estado estacionario.\n",
    "\n",
    "**Sobre Nivel Porcentual (Percent Overshoot):** Es la medida del exceso máximo de la respuesta sobre el valor final deseado, expresado como porcentaje. Un sobre nivel alto indica oscilaciones significativas antes de estabilizarse, lo cual puede ser indeseable para la precisión y seguridad del sistema.\n",
    "\n",
    "# Investigacion Funciones:"
   ]
  },
  {
   "cell_type": "markdown",
   "metadata": {},
   "source": [
    "### 1. `tic()` / `toc()`\n",
    "- **Función:** `tic()` inicia un cronómetro y `toc()` mide el tiempo transcurrido.\n",
    "- **Uso:** Se usan juntos para medir el tiempo de ejecución de un bloque de código.\n",
    "\n",
    "---\n",
    "\n",
    "### 2. `time()`\n",
    "- **Función:** Retorna el tiempo actual en segundos desde la época (1970).\n",
    "- **Uso:** Útil para medir tiempos o registrar marcas temporales.\n",
    "\n",
    "---\n",
    "\n",
    "### 3. `tf(num, den)`\n",
    "- **Función:** Crea una **función de transferencia** a partir del numerador y denominador.\n",
    "- **Uso:** Representa sistemas lineales en el dominio de Laplace.\n",
    "\n",
    "---\n",
    "\n",
    "### 4. `ss(A, B, C, D)`\n",
    "- **Función:** Crea una representación en **espacio de estados** del sistema.\n",
    "- **Uso:** Para trabajar con sistemas en forma matricial (estado).\n",
    "\n",
    "---\n",
    "\n",
    "### 5. `zpk(z, p, k)`\n",
    "- **Función:** Crea una función de transferencia a partir de **ceros, polos y ganancia**.\n",
    "- **Uso:** Alternativa a `tf()` que usa la forma factorizada.\n",
    "\n",
    "---\n",
    "\n",
    "### 6. `tf2ss(system)`\n",
    "- **Función:** Convierte una función de transferencia a espacio de estados.\n",
    "- **Uso:** Facilita análisis y control en representación matricial.\n",
    "\n",
    "---\n",
    "\n",
    "### 7. `tf2zp(system)`\n",
    "- **Función:** Convierte una función de transferencia a ceros, polos y ganancia.\n",
    "- **Uso:** Permite ver estructura factorizada del sistema.\n",
    "\n",
    "---\n",
    "\n",
    "### 8. `ss2zp(system)`\n",
    "- **Función:** Convierte un sistema en espacio de estados a ceros, polos y ganancia.\n",
    "- **Uso:** Útil para análisis en forma factorizada.\n",
    "\n",
    "---\n",
    "\n",
    "### 9. `ss2tf(system)`\n",
    "- **Función:** Convierte de espacio de estados a función de transferencia.\n",
    "- **Uso:** Permite obtener la expresión simbólica del sistema.\n",
    "\n",
    "---\n",
    "\n",
    "### 10. `zp2ss(z, p, k)`\n",
    "- **Función:** Convierte de ceros, polos y ganancia a espacio de estados.\n",
    "- **Uso:** Para trabajar con el sistema en forma matricial.\n",
    "\n",
    "---\n",
    "\n",
    "### 11. `zp2tf(z, p, k)`\n",
    "- **Función:** Convierte ceros, polos y ganancia a función de transferencia.\n",
    "- **Uso:** Genera la forma racional (num/den) desde la factorizada.\n",
    "\n",
    "---\n",
    "\n",
    "### 12. `roots(p)`\n",
    "- **Función:** Devuelve las **raíces de un polinomio** dado por sus coeficientes.\n",
    "- **Uso:** Para hallar ceros o polos a partir de expresiones algebraicas.\n",
    "\n",
    "---\n",
    "\n",
    "### 13. `pole(system)`\n",
    "- **Función:** Retorna los **polos** del sistema.\n",
    "- **Uso:** Clave para determinar estabilidad y dinámica del sistema.\n",
    "\n",
    "---\n",
    "\n",
    "### 14. `zero(system)`\n",
    "- **Función:** Retorna los **ceros** del sistema.\n",
    "- **Uso:** Ayuda a analizar el comportamiento en frecuencia y la respuesta del sistema.\n",
    "\n",
    "---\n",
    "\n",
    "### 15. `poly(list_of_roots)`\n",
    "- **Función:** Convierte una lista de raíces (ceros o polos) en un **polinomio**.\n",
    "- **Uso:** Útil para construir funciones de transferencia a partir de ceros o polos conocidos.\n",
    "\n",
    "---\n",
    "\n",
    "### 16. `eig(A)`\n",
    "- **Función:** Calcula los **valores propios** (eigenvalores) de una matriz.\n",
    "- **Uso:** Se usa en representación en espacio de estados para estudiar la estabilidad del sistema.\n",
    "\n",
    "---\n",
    "\n",
    "### 17. `pzmap(system)`\n",
    "- **Función:** Muestra un gráfico con los **polos y ceros** del sistema en el plano complejo.\n",
    "- **Uso:** Útil para visualizar estabilidad y comportamiento dinámico.\n",
    "\n",
    "---\n",
    "\n",
    "### 18. `dcgain(system)`\n",
    "- **Función:** Calcula la **ganancia en estado estacionario** (ganancia DC) del sistema.\n",
    "- **Uso:** Muy útil en análisis de respuesta a entrada escalón.\n",
    "\n",
    "---\n",
    "\n",
    "### 19. `minreal(system)`\n",
    "- **Función:** Simplifica el sistema eliminando **polos y ceros cancelables**.\n",
    "- **Uso:** Reduce complejidad sin cambiar el comportamiento del sistema.\n",
    "\n",
    "---\n",
    "\n",
    "### 20. `subplot(nrows, ncols, index)`\n",
    "- **Función:** Divide los plots en una sola ventana\n",
    "- **Uso:** Divide la ventana de gráficos en subgráficos.\n",
    "\n",
    "---\n",
    "\n",
    "### 21. `feedback(sys1, sys2=1)`\n",
    "- **Función:** Crea la función de transferencia en **lazo cerrado** a partir de `sys1` y `sys2`.\n",
    "- **Uso:** Para modelar sistemas con realimentación (por defecto negativa).\n",
    "\n",
    "---\n",
    "\n",
    "### 22. `tfdata(system)`\n",
    "- **Función:** Devuelve los **coeficientes** del numerador y denominador de una función de transferencia.\n",
    "- **Uso:** Permite acceder y modificar directamente las expresiones algebraicas del sistema.\n"
   ]
  },
  {
   "cell_type": "markdown",
   "metadata": {},
   "source": [
    "# Solucion Taller\n"
   ]
  },
  {
   "cell_type": "markdown",
   "metadata": {},
   "source": [
    "$$\n",
    "G(s) = \\frac{ke^{-sT_m}}{(\\tau_1 s + 1)(\\tau_2 s + 1)} = \\frac{1.2 e^{-39.2s}}{(59.7s + 1)(22.3s + 1)}\n",
    "$$\n",
    "\n",
    "\n",
    "## 5.1 \n",
    "Parta del modelo de FT sin tiempo muerto del sistema y halle el modelo de Espacio de Estado, EE. Convierta la \n",
    "Función de Transferencia en su correspondiente ecuación diferencial, con coeficiente de la mayor derivada del modelo \n",
    "igual a 1, y use Variables de Estado de Fase, VEF, ( tome  x1(t)= y(t) y x2(t)= y’(t) ), de modo que la respuesta del sistema \n",
    "es la VEF número 1. Trabaje algebraicamente, sin dar valores a las constantes del modelo. Escriba a continuación: \n",
    "Modelo de FT sin tiempo muerto: \n",
    "Modelo de EE sin tiempo muerto: \n"
   ]
  },
  {
   "cell_type": "code",
   "execution_count": null,
   "metadata": {},
   "outputs": [],
   "source": [
    "! pip install control numpy matplotlib scipy -q\n",
    "from control import *\n",
    "import control.matlab as matCont\n",
    "import numpy as np\n",
    "import matplotlib.pyplot as plt"
   ]
  },
  {
   "cell_type": "markdown",
   "metadata": {},
   "source": [
    "### Modelo de Funcion de Transferencia FT"
   ]
  },
  {
   "cell_type": "code",
   "execution_count": 6,
   "metadata": {},
   "outputs": [
    {
     "name": "stdout",
     "output_type": "stream",
     "text": [
      "<TransferFunction>: sys[1]\n",
      "Inputs (1): ['u[0]']\n",
      "Outputs (1): ['y[0]']\n",
      "\n",
      "\n",
      "        1.2\n",
      "-------------------\n",
      "1331 s^2 + 82 s + 1\n",
      "\n"
     ]
    }
   ],
   "source": [
    "\n",
    "k=1.2\n",
    "Tm=0\n",
    "T1=59.7\n",
    "T2=22.3\n",
    "Gs1 = tf([k], [T1*T2,T1+T2,1])\n",
    "print(Gs1)"
   ]
  },
  {
   "cell_type": "markdown",
   "metadata": {},
   "source": [
    "### Modelo De Espacio de Estado EE"
   ]
  },
  {
   "cell_type": "code",
   "execution_count": null,
   "metadata": {},
   "outputs": [
    {
     "name": "stdout",
     "output_type": "stream",
     "text": [
      "\n",
      "Modelo en espacio de estado:\n",
      "<StateSpace>: sys[1]\n",
      "Inputs (1): ['u[0]']\n",
      "Outputs (1): ['y[0]']\n",
      "States (2): ['x[0]', 'x[1]']\n",
      "\n",
      "A = [[-6.15934681e-02 -7.51139855e-04]\n",
      "     [ 1.00000000e+00  0.00000000e+00]]\n",
      "\n",
      "B = [[1.]\n",
      "     [0.]]\n",
      "\n",
      "C = [[0.         0.00090137]]\n",
      "\n",
      "D = [[0.]]\n",
      "\n"
     ]
    }
   ],
   "source": [
    "Gs1_ss = ss(Gs1)\n",
    "\n",
    "print(\"\\nModelo en espacio de estado:\")\n",
    "print(Gs1_ss)"
   ]
  },
  {
   "cell_type": "markdown",
   "metadata": {},
   "source": [
    "## 5.2\n",
    " 5.2 Ahora ponga en Python la información de 5.1. Defina en PYTHON las variables num y den y A, B, C, D, que \n",
    "representan el numerador y denominador del modelo de FT y las matrices A, B, C, D del modelo de EE, sin el \n",
    "término de tiempo muerto. Use los comandos tf y ss para crear ambos modelos en ML; llámelos Gptf y Mpss, .  \n",
    "- Gptf= tf(num,den)  % Numerador y denominador del modelo de FT. \n",
    "- Mpss =ss(A,B,C,D)  % Matrices A, B, C, D del modelo de EE \n",
    "\n",
    "Se han definido dos estructuras en el Espacio de Trabajo de Python, ETPython, una de tipo función de transferencia, \n",
    "tf (transfer function), y otra del tipo espacio de estado, ss (space state); ellas representan dos modelos diferentes \n",
    "del mismo sistema, por lo que las respuestas de ambos modelos ante entrada escalón deben ser iguales. \n",
    "Compruébelo con los siguientes comandos de PYTHON y ponga título a las gráficas resultantes y a sus ejes. \n",
    "\n",
    "- step(0.23*Gptf)  \n",
    "- figure \n",
    "- step(0.23*Gpss) "
   ]
  },
  {
   "cell_type": "code",
   "execution_count": 12,
   "metadata": {},
   "outputs": [
    {
     "data": {
      "image/png": "[encoded data removed]",
      "text/plain": [
       "<Figure size 640x480 with 1 Axes>"
      ]
     },
     "metadata": {},
     "output_type": "display_data"
    },
    {
     "data": {
      "image/png": "[encoded data removed]",
      "text/plain": [
       "<Figure size 640x480 with 1 Axes>"
      ]
     },
     "metadata": {},
     "output_type": "display_data"
    }
   ],
   "source": [
    "Gptf = Gs1\n",
    "Gpss = Gs1_ss\n",
    "\n",
    "t1, y1 = step_response(0.23*Gptf)\n",
    "plt.figure()\n",
    "plt.plot(t1, y1)\n",
    "plt.title(\"Respuesta al Escalón - Modelo FT\")\n",
    "plt.xlabel(\"Tiempo\")\n",
    "plt.ylabel(\"Respuesta\")\n",
    "plt.grid(True)\n",
    "t2, y2 = step_response(0.23 * Gpss)\n",
    "plt.figure()\n",
    "plt.plot(t2, y2)\n",
    "plt.title(\"Respuesta al Escalón - Modelo EE\")\n",
    "plt.xlabel(\"Tiempo\")\n",
    "plt.ylabel(\"Respuesta\")\n",
    "plt.grid(True)\n",
    "\n",
    "plt.show()"
   ]
  },
  {
   "cell_type": "code",
   "execution_count": 17,
   "metadata": {},
   "outputs": [
    {
     "name": "stdout",
     "output_type": "stream",
     "text": [
      "{'RiseTime': np.float64(144.64530251713418), 'SettlingTime': np.float64(261.5925683820512), 'SettlingMin': np.float64(0.2488648970247613), 'SettlingMax': np.float64(0.276), 'Overshoot': 0, 'Undershoot': 0, 'Peak': np.float64(0.27555943468599936), 'PeakTime': np.float64(412.3929901552336), 'SteadyStateValue': np.float64(0.276)}\n"
     ]
    }
   ],
   "source": [
    "print(step_info(Gptf*0.23))"
   ]
  },
  {
   "cell_type": "markdown",
   "metadata": {},
   "source": [
    "### 5.2.1\n",
    "¿Cuál es el valor final de las respuestas anteriores? Justifique su respuesta. \n",
    "- La funcion muestra que el parámetro SteadyStateValue es 0.276, lo que confirma que la respuesta final del sistema es 0.276. Esto coincide con la estimación teórica obtenida al multiplicar el escalón (0.23) por la ganancia DC del sistema (1.2).\n",
    "### 5.2.2\n",
    "¿Cuáles son los tiempos de estabilización de las respuestas? \n",
    "- El parámetro SettlingTime es aproximadamente 261.59 segundos. Esto significa que después de 261.59 s, la respuesta se mantiene dentro de los límites de estabilidad indicados (entre SettlingMin = 0.2489 y SettlingMax = 0.276). La gráfica confirma que la respuesta se estabiliza en ese intervalo de tiempo."
   ]
  },
  {
   "cell_type": "code",
   "execution_count": null,
   "metadata": {},
   "outputs": [],
   "source": []
  }
 ],
 "metadata": {
  "kernelspec": {
   "display_name": "Python 3",
   "language": "python",
   "name": "python3"
  },
  "language_info": {
   "codemirror_mode": {
    "name": "ipython",
    "version": 3
   },
   "file_extension": ".py",
   "mimetype": "text/x-python",
   "name": "python",
   "nbconvert_exporter": "python",
   "pygments_lexer": "ipython3",
   "version": "3.13.2"
  }
 },
 "nbformat": 4,
 "nbformat_minor": 2
}
